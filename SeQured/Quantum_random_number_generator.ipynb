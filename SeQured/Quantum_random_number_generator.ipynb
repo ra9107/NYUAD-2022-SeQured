{
  "cells": [
    {
      "cell_type": "code",
      "execution_count": null,
      "id": "b27de97d-60c6-478b-bc41-41e456a8441c",
      "metadata": {
        "id": "b27de97d-60c6-478b-bc41-41e456a8441c"
      },
      "outputs": [],
      "source": [
        "import matplotlib.pyplot as plt\n",
        "import math\n",
        "import numpy as np\n",
        "import threading\n",
        "\n",
        "from IPython.display import clear_output\n",
        "\n",
        "import warnings\n",
        "warnings.filterwarnings('ignore')"
      ]
    },
    {
      "cell_type": "code",
      "execution_count": null,
      "id": "f6fdea23-1b0e-4bb2-9b6e-a02ba2724296",
      "metadata": {
        "id": "f6fdea23-1b0e-4bb2-9b6e-a02ba2724296",
        "outputId": "334a4c13-f939-4430-9916-3f0a43fb4fc1"
      },
      "outputs": [
        {
          "name": "stdout",
          "output_type": "stream",
          "text": [
            "Gate set supported by the Rigetti backend device:\n",
            " ['cz', 'xy', 'ccnot', 'cnot', 'cphaseshift', 'cphaseshift00', 'cphaseshift01', 'cphaseshift10', 'cswap', 'h', 'i', 'iswap', 'phaseshift', 'pswap', 'rx', 'ry', 'rz', 's', 'si', 'swap', 't', 'ti', 'x', 'y', 'z', 'start_verbatim_box', 'end_verbatim_box'] \n",
            "\n",
            "Gate set supported by the IonQ backend device:\n",
            " ['x', 'y', 'z', 'rx', 'ry', 'rz', 'h', 'cnot', 's', 'si', 't', 'ti', 'v', 'vi', 'xx', 'yy', 'zz', 'swap', 'i'] \n",
            "\n"
          ]
        }
      ],
      "source": [
        "# AWS imports: Import Braket SDK modules\n",
        "from braket.circuits import Circuit, Gate, Instruction, circuit, Observable\n",
        "from braket.devices import LocalSimulator\n",
        "from braket.aws import AwsDevice, AwsQuantumTask\n",
        "from braket.ir.openqasm import Program as OpenQASMProgram\n",
        "\n",
        "# Please enter the S3 bucket you created during onboarding in the code below\n",
        "my_bucket = f\"amazon-braket-Your-Bucket-Name\" # the name of the bucket\n",
        "my_prefix = \"Your-Folder-Name\" # the name of the folder in the bucket\n",
        "s3_folder = (my_bucket, my_prefix)\n",
        "\n",
        "backend_rigetti = AwsDevice(\"arn:aws:braket:us-west-1::device/qpu/rigetti/Aspen-M-1\")\n",
        "supported_gates = backend_rigetti.properties.action['braket.ir.jaqcd.program'].supportedOperations\n",
        "print('Gate set supported by the Rigetti backend device:\\n', supported_gates, '\\n')\n",
        "\n",
        "backend_ionq = AwsDevice(\"arn:aws:braket:::device/qpu/ionq/ionQdevice\")\n",
        "supported_gates = backend_ionq.properties.action['braket.ir.jaqcd.program'].supportedOperations\n",
        "print('Gate set supported by the IonQ backend device:\\n', supported_gates, '\\n')"
      ]
    },
    {
      "cell_type": "markdown",
      "id": "3702e110-bf73-424c-9ec4-6ac91e6e604c",
      "metadata": {
        "id": "3702e110-bf73-424c-9ec4-6ac91e6e604c"
      },
      "source": [
        "# Generate a random bitstring using a quantum circuit"
      ]
    },
    {
      "cell_type": "markdown",
      "id": "5b3be422-cd58-4b1a-8e05-21669a168796",
      "metadata": {
        "id": "5b3be422-cd58-4b1a-8e05-21669a168796"
      },
      "source": [
        "## Basic Hadamard transform"
      ]
    },
    {
      "cell_type": "markdown",
      "id": "a71d8900-4639-4652-97d6-e878cdeabb07",
      "metadata": {
        "id": "a71d8900-4639-4652-97d6-e878cdeabb07"
      },
      "source": [
        "In theory, a basic Hadamard transform would be sufficient to generate a true, unbiased random bitstring."
      ]
    },
    {
      "cell_type": "code",
      "execution_count": null,
      "id": "7963c8fb-7518-4874-b045-45b0cadcb93a",
      "metadata": {
        "id": "7963c8fb-7518-4874-b045-45b0cadcb93a"
      },
      "outputs": [],
      "source": [
        "def hadamard_transform(n_qubits):\n",
        "    \"\"\"\n",
        "    function to apply Hadamard gate on each qubit\n",
        "    input: number of qubits\n",
        "    \"\"\"\n",
        "\n",
        "    # instantiate circuit object\n",
        "    circuit = Circuit()\n",
        "\n",
        "    # apply series of Hadamard gates\n",
        "    for i in range(n_qubits):\n",
        "        circuit.h(i)\n",
        "\n",
        "    return circuit"
      ]
    },
    {
      "cell_type": "code",
      "execution_count": null,
      "id": "59ab3fe7-8b55-4aea-a19d-95da73f89432",
      "metadata": {
        "id": "59ab3fe7-8b55-4aea-a19d-95da73f89432",
        "outputId": "85394da6-b50d-426a-d9ac-7a48f2e8f595"
      },
      "outputs": [
        {
          "name": "stdout",
          "output_type": "stream",
          "text": [
            "T   : |0|\n",
            "         \n",
            "q0  : -H-\n",
            "         \n",
            "q1  : -H-\n",
            "         \n",
            "q2  : -H-\n",
            "         \n",
            "q3  : -H-\n",
            "         \n",
            "q4  : -H-\n",
            "         \n",
            "q5  : -H-\n",
            "         \n",
            "q6  : -H-\n",
            "         \n",
            "q7  : -H-\n",
            "         \n",
            "q8  : -H-\n",
            "         \n",
            "q9  : -H-\n",
            "         \n",
            "q10 : -H-\n",
            "         \n",
            "q11 : -H-\n",
            "         \n",
            "q12 : -H-\n",
            "         \n",
            "q13 : -H-\n",
            "         \n",
            "q14 : -H-\n",
            "         \n",
            "q15 : -H-\n",
            "         \n",
            "q16 : -H-\n",
            "         \n",
            "q17 : -H-\n",
            "         \n",
            "q18 : -H-\n",
            "         \n",
            "q19 : -H-\n",
            "         \n",
            "q20 : -H-\n",
            "         \n",
            "q21 : -H-\n",
            "         \n",
            "q22 : -H-\n",
            "         \n",
            "q23 : -H-\n",
            "         \n",
            "q24 : -H-\n",
            "         \n",
            "q25 : -H-\n",
            "         \n",
            "q26 : -H-\n",
            "         \n",
            "q27 : -H-\n",
            "         \n",
            "q28 : -H-\n",
            "         \n",
            "q29 : -H-\n",
            "         \n",
            "q30 : -H-\n",
            "         \n",
            "q31 : -H-\n",
            "         \n",
            "q32 : -H-\n",
            "         \n",
            "q33 : -H-\n",
            "         \n",
            "q34 : -H-\n",
            "         \n",
            "q35 : -H-\n",
            "         \n",
            "q36 : -H-\n",
            "         \n",
            "q37 : -H-\n",
            "         \n",
            "q38 : -H-\n",
            "         \n",
            "q39 : -H-\n",
            "         \n",
            "q40 : -H-\n",
            "         \n",
            "q41 : -H-\n",
            "         \n",
            "q42 : -H-\n",
            "         \n",
            "q43 : -H-\n",
            "         \n",
            "q44 : -H-\n",
            "         \n",
            "q45 : -H-\n",
            "         \n",
            "q46 : -H-\n",
            "         \n",
            "q47 : -H-\n",
            "         \n",
            "q48 : -H-\n",
            "         \n",
            "q49 : -H-\n",
            "         \n",
            "q50 : -H-\n",
            "         \n",
            "q51 : -H-\n",
            "         \n",
            "q52 : -H-\n",
            "         \n",
            "q53 : -H-\n",
            "         \n",
            "q54 : -H-\n",
            "         \n",
            "q55 : -H-\n",
            "         \n",
            "q56 : -H-\n",
            "         \n",
            "q57 : -H-\n",
            "         \n",
            "q58 : -H-\n",
            "         \n",
            "q59 : -H-\n",
            "         \n",
            "q60 : -H-\n",
            "         \n",
            "q61 : -H-\n",
            "         \n",
            "q62 : -H-\n",
            "         \n",
            "q63 : -H-\n",
            "         \n",
            "q64 : -H-\n",
            "         \n",
            "q65 : -H-\n",
            "         \n",
            "q66 : -H-\n",
            "         \n",
            "q67 : -H-\n",
            "         \n",
            "q68 : -H-\n",
            "         \n",
            "q69 : -H-\n",
            "         \n",
            "q70 : -H-\n",
            "         \n",
            "q71 : -H-\n",
            "         \n",
            "q72 : -H-\n",
            "         \n",
            "q73 : -H-\n",
            "         \n",
            "q74 : -H-\n",
            "         \n",
            "q75 : -H-\n",
            "         \n",
            "q76 : -H-\n",
            "         \n",
            "q77 : -H-\n",
            "         \n",
            "q78 : -H-\n",
            "         \n",
            "q79 : -H-\n",
            "\n",
            "T   : |0|\n"
          ]
        }
      ],
      "source": [
        "n_qubits = 80\n",
        "circ = hadamard_circuit(n_qubits)\n",
        "print(circ)"
      ]
    },
    {
      "cell_type": "markdown",
      "id": "400ce5f7-d11b-42f7-a60d-42cd62436341",
      "metadata": {
        "id": "400ce5f7-d11b-42f7-a60d-42cd62436341"
      },
      "source": [
        "Let's measure this on Rigetti and see the results."
      ]
    },
    {
      "cell_type": "code",
      "execution_count": null,
      "id": "2c6ad0bc-5997-45c2-becf-d984b25c5358",
      "metadata": {
        "id": "2c6ad0bc-5997-45c2-becf-d984b25c5358",
        "outputId": "73cc3e3b-17a2-48a5-f7d6-aa2cfd92d246"
      },
      "outputs": [
        {
          "name": "stdout",
          "output_type": "stream",
          "text": [
            "Job ID: arn:aws:braket:us-west-1:592242689881:quantum-task/c6b81e53-ece7-41c7-9d10-61c2501d924b\n",
            "Status of task: QUEUED\n",
            "\n",
            "Random bitstring: 10000000000000000000001000000001001000100100010001010000100100011000000010000000\n"
          ]
        }
      ],
      "source": [
        "job = backend_rigetti.run(circ, s3_folder, shots=10, poll_timeout_seconds=5*24*60*60)\n",
        "\n",
        "print('Job ID:', job.id)\n",
        "print('Status of task:', job.state())\n",
        "\n",
        "counts = job.result().measurement_counts\n",
        "print(f'\\nRandom bitstring: {list(counts.keys())[0]}')"
      ]
    },
    {
      "cell_type": "markdown",
      "id": "a5dcfa06-c105-4207-88a1-5358c78214cd",
      "metadata": {
        "id": "a5dcfa06-c105-4207-88a1-5358c78214cd"
      },
      "source": [
        "We see that the results do not even closely resemble 50% |0> and 50% |1>. While this could be purely statistical coincidence, the problem with a simple Hadamard transform is that the results will never be truly unbiased on noisy quantum hardware. This is due to many factors, but namely systematic unitary errors from imperfectly calibrated gates, unwanted couplings, and crosstalk between qubits. To generate a more unabiased random number, we need to try to remove this bias using random circuit sampling, similar to Google's quantum supremacy experiments."
      ]
    },
    {
      "cell_type": "markdown",
      "id": "1361fd15-381b-4195-b500-898d370f0783",
      "metadata": {
        "tags": [],
        "id": "1361fd15-381b-4195-b500-898d370f0783"
      },
      "source": [
        "# Random circuit sampling"
      ]
    },
    {
      "cell_type": "markdown",
      "id": "e7d45b13-7ef0-40ea-8d55-469176acac34",
      "metadata": {
        "id": "e7d45b13-7ef0-40ea-8d55-469176acac34"
      },
      "source": [
        "## Functions"
      ]
    },
    {
      "cell_type": "code",
      "execution_count": null,
      "id": "fa9d9757-c3df-4d51-ae4d-4d5b5a111c95",
      "metadata": {
        "id": "fa9d9757-c3df-4d51-ae4d-4d5b5a111c95"
      },
      "outputs": [],
      "source": [
        "def rand_all_to_all_circ(n_qubits, n_layers, seed=None):\n",
        "    \"\"\"A function to prepare an all-to-all circuit with random SU(2) gates\"\"\"\n",
        "    \n",
        "    if seed is not None:\n",
        "        np.random.seed(seed)\n",
        "    def single_random_layers(n_qubits, depth):\n",
        "        def gen_layer():\n",
        "            for q in range(n_qubits):\n",
        "                angle = np.random.uniform(0, 2 * math.pi)\n",
        "                gate = np.random.choice([Gate.Rx(angle), Gate.Ry(angle), Gate.Rz(angle)], 1, replace=True)[0]\n",
        "                yield (gate, q)\n",
        "        for _ in range(depth):\n",
        "            yield gen_layer()\n",
        "    \n",
        "    circ = Circuit()\n",
        "    circs_single = single_random_layers(n_qubits, n_layers+1)\n",
        "\n",
        "    for layer in range(n_layers):\n",
        "        for sq_gates in next(circs_single):\n",
        "            gate, target = sq_gates\n",
        "            circ.add_instruction(Instruction(gate, target))\n",
        "\n",
        "        # match the qubits into pairs\n",
        "        x = np.arange(n_qubits)\n",
        "        np.random.shuffle(x)\n",
        "        for i in range(0, n_qubits - 1, 2):\n",
        "            i, j = x[i], x[i + 1]\n",
        "            circ.cnot(i, j)\n",
        "\n",
        "    # last layer of single qubit rotations\n",
        "    for sq_gates in next(circs_single):\n",
        "        gate, target = sq_gates\n",
        "        circ.add_instruction(Instruction(gate, target))\n",
        "\n",
        "    return circ"
      ]
    },
    {
      "cell_type": "code",
      "execution_count": null,
      "id": "576385c4-8754-4d77-84a7-d7b4707e53e9",
      "metadata": {
        "id": "576385c4-8754-4d77-84a7-d7b4707e53e9"
      },
      "outputs": [],
      "source": [
        "def run_circuit():\n",
        "\n",
        "    circ = all_to_all(11, 30)\n",
        "    \n",
        "    # Only measure each circuit once\n",
        "    job = backend_ionq.run(circ, s3_folder, shots=1, poll_timeout_seconds=5*24*60*60)\n",
        "    id_array.append(job.id)\n",
        "\n",
        "    print('Job ID:', job.id)\n",
        "    print('Status of job:', job.state(), '\\n')\n",
        "\n",
        "    counts = job.result().measurement_counts\n",
        "    random_bitstrings.append(list(counts.keys())[0])"
      ]
    },
    {
      "cell_type": "markdown",
      "id": "de9f3bc4-d5aa-4694-8ce1-b5dafbb3a0d7",
      "metadata": {
        "id": "de9f3bc4-d5aa-4694-8ce1-b5dafbb3a0d7"
      },
      "source": [
        "## Measure"
      ]
    },
    {
      "cell_type": "markdown",
      "id": "367a7b2e-e4cb-46d9-87ed-084a8269b17d",
      "metadata": {
        "id": "367a7b2e-e4cb-46d9-87ed-084a8269b17d"
      },
      "source": [
        "Here is an example circuit with random single-qubit gates and CNOT gates between two randomly-sampled qubits. This type of circuit is best implemented on an all-to-all QPU. Therefore, we implement this on IonQ's hardware."
      ]
    },
    {
      "cell_type": "code",
      "execution_count": null,
      "id": "e97a425d-79a0-44b1-b74d-4d4b425242c7",
      "metadata": {
        "id": "e97a425d-79a0-44b1-b74d-4d4b425242c7",
        "outputId": "84c99ffa-5243-4533-e2fa-f8cc581d2d0e"
      },
      "outputs": [
        {
          "name": "stdout",
          "output_type": "stream",
          "text": [
            "T   : |   0    |      1       |   2    |     3      |   4    |        5         |   6    |\n",
            "                                                                                          \n",
            "q0  : -Rx(4.64)------------C---Rx(2.19)---C----------Ry(3.83)---X----------------Ry(0.34)-\n",
            "                           |              |                     |                         \n",
            "q1  : -Rx(4.20)------------|-C-Ry(5.68)---|-X--------Rx(3.09)---|-----X----------Ry(6.18)-\n",
            "                           | |            | |                   |     |                   \n",
            "q2  : -Ry(4.30)-Ry(0.93)---|-|----------C-|-|--------Rx(1.47)-X-|-----|----------Rx(0.23)-\n",
            "                           | |          | | |                 | |     |                   \n",
            "q3  : -Rx(1.53)-C----------|-|-Ry(1.71)-X-|-|--------Rx(3.72)-|-|---C-|----------Rz(2.60)-\n",
            "                |          | |            | |                 | |   | |                   \n",
            "q4  : -Rz(1.21)-|--------C-|-|-Rz(2.04)---|-C--------Rx(2.01)-|-|-C-|-|----------Ry(5.25)-\n",
            "                |        | | |            |                   | | | | |                   \n",
            "q5  : -Rx(2.91)-|--------|-|-X-Ry(4.28)-C-|----------Rz(2.63)-|-|-|-|-|-Ry(2.92)----------\n",
            "                |        | |            | |                   | | | | |                   \n",
            "q6  : -Ry(4.44)-X--------|-|---Rx(4.75)-|-|-Rz(3.46)----------|-|-|-X-|----------Rz(0.61)-\n",
            "                         | |            | |                   | | |   |                   \n",
            "q7  : -Ry(1.79)----------X-|---Rz(5.55)-X-|----------Rz(0.99)-|-|-X---|----------Ry(1.09)-\n",
            "                           |              |                   | |     |                   \n",
            "q8  : -Ry(4.56)------------X---Ry(2.73)-C-|----------Ry(1.54)-C-|-----|----------Ry(2.71)-\n",
            "                                        | |                     |     |                   \n",
            "q9  : -Rz(5.73)-C--------------Rx(5.82)-X-|----------Ry(3.17)---|-----C----------Rz(5.57)-\n",
            "                |                         |                     |                         \n",
            "q10 : -Rz(3.14)-X--------------Rz(0.94)---X----------Ry(1.04)---C----------------Rx(1.36)-\n",
            "\n",
            "T   : |   0    |      1       |   2    |     3      |   4    |        5         |   6    |\n"
          ]
        }
      ],
      "source": [
        "circ = all_to_all(11, 3)\n",
        "print(circ)"
      ]
    },
    {
      "cell_type": "markdown",
      "id": "866b7a86-5227-4e0b-ada0-aa00b8e5730b",
      "metadata": {
        "id": "866b7a86-5227-4e0b-ada0-aa00b8e5730b"
      },
      "source": [
        "For the actual experiment, we generate a much deeper circuit 10x longer than the example circuit above. We desire a bitstring that is 6 x 64 = 384 bits because it encodes 6 base 64 characters in a user friendly manner. Since IonQ has 11 qubits, this requires measuring 35 different random circuits, concatenating their bitstrings, and then truncating it at a length of 384."
      ]
    },
    {
      "cell_type": "code",
      "execution_count": null,
      "id": "62f2fec9-ab07-48c7-a623-be735cee8ae5",
      "metadata": {
        "id": "62f2fec9-ab07-48c7-a623-be735cee8ae5",
        "outputId": "b23818d9-769e-4a62-bc36-683392ca281d"
      },
      "outputs": [
        {
          "name": "stdout",
          "output_type": "stream",
          "text": [
            "Thread 0 started\n",
            "Thread 1 started\n",
            "Thread 2 started\n",
            "Thread 3 started\n",
            "Thread 4 started\n",
            "Thread 5 started\n",
            "Thread 6 started\n",
            "Thread 7 started\n",
            "Thread 8 started\n",
            "Thread 9 started\n",
            "Thread 10 started\n",
            "Thread 11 started\n",
            "Thread 12 started\n",
            "Thread 13 started\n",
            "Thread 14 started\n",
            "Thread 15 started\n",
            "Thread 16 started\n",
            "Thread 17 started\n",
            "Thread 18 started\n",
            "Thread 19 started\n",
            "Thread 20 started\n",
            "Thread 21 started\n",
            "Thread 22 started\n",
            "Thread 23 started\n",
            "Thread 24 started\n",
            "Thread 25 started\n",
            "Thread 26 started\n",
            "Thread 27 started\n",
            "Thread 28 started\n",
            "Thread 29 started\n",
            "Thread 30 started\n",
            "Thread 31 started\n",
            "Thread 32 started\n",
            "Thread 33 started\n",
            "Thread 34 started\n"
          ]
        },
        {
          "data": {
            "text/plain": [
              "[]"
            ]
          },
          "execution_count": 44,
          "metadata": {},
          "output_type": "execute_result"
        },
        {
          "name": "stdout",
          "output_type": "stream",
          "text": [
            "Job ID: arn:aws:braket:us-east-1:592242689881:quantum-task/05614783-99ae-41d2-95c2-46f8b21e4498\n",
            "Job ID: arn:aws:braket:us-east-1:592242689881:quantum-task/e30b0746-f0d3-4e7f-85b5-1a44c5655d4f\n",
            "Job ID: arn:aws:braket:us-east-1:592242689881:quantum-task/83cddf7a-a6fb-4fb5-986d-5001fce89d02\n",
            "Job ID: arn:aws:braket:us-east-1:592242689881:quantum-task/5a44466a-44b8-4b59-b43c-834cb291681b\n",
            "Job ID: arn:aws:braket:us-east-1:592242689881:quantum-task/e1bac7c3-3cc1-455b-aea7-bdbfbd4a23e6\n",
            "Job ID: arn:aws:braket:us-east-1:592242689881:quantum-task/8dc09f3f-0cdc-4388-a6b6-1ab6ca90b5fa\n",
            "Job ID: arn:aws:braket:us-east-1:592242689881:quantum-task/cf2b3446-aaf3-427e-b2e0-05fe3dd6583d\n",
            "Job ID: arn:aws:braket:us-east-1:592242689881:quantum-task/de3ef775-1ef7-446f-a999-3fc0d9e55010\n",
            "Job ID: arn:aws:braket:us-east-1:592242689881:quantum-task/c03dbba0-4eef-4808-9441-d28094505f80\n",
            "Job ID: arn:aws:braket:us-east-1:592242689881:quantum-task/98780973-583a-492b-8df8-ce143a6955ce\n",
            "Job ID: arn:aws:braket:us-east-1:592242689881:quantum-task/ae7060b6-8e5d-4e08-80a7-690508ed797c\n",
            "Job ID: arn:aws:braket:us-east-1:592242689881:quantum-task/7b8ee98e-c567-40ca-80b5-965b4f4dd549\n",
            "Job ID: arn:aws:braket:us-east-1:592242689881:quantum-task/61439ca3-1f2a-43d3-af37-d4ba4c1bd352\n",
            "Job ID: arn:aws:braket:us-east-1:592242689881:quantum-task/86e71c6e-9527-4a2a-9a1b-0835423b6d89\n",
            "Job ID: arn:aws:braket:us-east-1:592242689881:quantum-task/cc95be24-582e-4bc9-b9ba-cb4bf853a772\n",
            "Job ID: arn:aws:braket:us-east-1:592242689881:quantum-task/2b0e827d-99c6-4ac5-b9be-5eb79506a848\n",
            "Job ID: arn:aws:braket:us-east-1:592242689881:quantum-task/2caa95fd-838e-4db7-93e0-f690e13d41b8\n",
            "Job ID: arn:aws:braket:us-east-1:592242689881:quantum-task/6dd7224f-885d-400f-b351-5b7c439271ea\n",
            "Job ID: arn:aws:braket:us-east-1:592242689881:quantum-task/1a6470a1-fe7e-4a5a-8337-93d79e418710\n",
            "Job ID: arn:aws:braket:us-east-1:592242689881:quantum-task/b11a2ea7-5cea-4d33-818a-64669e6a68a0\n",
            "Job ID: arn:aws:braket:us-east-1:592242689881:quantum-task/bd4b383f-d1ef-43a5-a7f1-f7e625072936\n",
            "Job ID: arn:aws:braket:us-east-1:592242689881:quantum-task/505f24d8-c357-4e43-9c9a-759f4c9c9e8d\n",
            "Job ID: arn:aws:braket:us-east-1:592242689881:quantum-task/f855ef35-88a5-47ba-be4f-a4f17b9ee7f9\n",
            "Job ID: arn:aws:braket:us-east-1:592242689881:quantum-task/beef7201-f786-412f-8fd3-97bd5cab0376\n",
            "Status of job: QUEUED \n",
            "\n",
            "Status of job: QUEUED \n",
            "\n",
            "Job ID: arn:aws:braket:us-east-1:592242689881:quantum-task/2f357008-a0de-4af8-b029-868d32429711\n",
            "Job ID: arn:aws:braket:us-east-1:592242689881:quantum-task/427f7845-8567-4eec-bb9b-37d07836c2d9\n",
            "Status of job: QUEUED \n",
            "\n",
            "Job ID: arn:aws:braket:us-east-1:592242689881:quantum-task/57224ea2-a729-4011-9aa0-c40cd0ba5967\n",
            "Job ID: arn:aws:braket:us-east-1:592242689881:quantum-task/291486f2-bd84-48ae-90a3-7d995b31db1d\n",
            "Job ID: arn:aws:braket:us-east-1:592242689881:quantum-task/c7d29b6b-12cf-4dba-80c6-70411d1e06c6\n",
            "Job ID: arn:aws:braket:us-east-1:592242689881:quantum-task/0cdde378-d97f-4d3f-9190-386a4de3cc12\n",
            "Job ID: arn:aws:braket:us-east-1:592242689881:quantum-task/0637ef75-d3b4-47a3-acb4-4daf6ac3a985\n",
            "Job ID: arn:aws:braket:us-east-1:592242689881:quantum-task/cc67eaf1-c998-4b2d-bf74-c3360c48211f\n",
            "Job ID: arn:aws:braket:us-east-1:592242689881:quantum-task/402e12b7-4ab2-479c-ae0e-55ea864bcc48\n",
            "Job ID: arn:aws:braket:us-east-1:592242689881:quantum-task/49622340-c8f6-4167-a29e-edba89b51782\n",
            "Status of job: QUEUED \n",
            "\n",
            "Status of job: QUEUED \n",
            "\n",
            "Status of job: QUEUED \n",
            "\n",
            "Job ID: arn:aws:braket:us-east-1:592242689881:quantum-task/f4c6488e-67f1-44e7-bf2e-677bf67c4a5d\n",
            "Status of job: QUEUED \n",
            "\n",
            "Status of job: QUEUED \n",
            "\n",
            "Status of job: QUEUED \n",
            "\n",
            "Status of job: QUEUED \n",
            "\n",
            "Status of job: QUEUED \n",
            "\n",
            "Status of job: QUEUED \n",
            "\n",
            "Status of job: QUEUED \n",
            "\n",
            "Status of job: QUEUED \n",
            "\n",
            "Status of job: QUEUED \n",
            "\n",
            "Status of job: QUEUED \n",
            "\n",
            "Status of job: CREATED \n",
            "\n",
            "Status of job: CREATED \n",
            "\n",
            "Status of job:Status of job: QUEUED \n",
            "\n",
            "Status of job:  QUEUED \n",
            "\n",
            "CREATED \n",
            "\n",
            "Status of job: QUEUED \n",
            "\n",
            "Status of job: CREATED \n",
            "\n",
            "Status of job: CREATED \n",
            "\n",
            "Status of job: CREATED \n",
            "\n",
            "Status of job: CREATED \n",
            "\n",
            "Status of job: CREATED \n",
            "\n",
            "Status of job: CREATED \n",
            "\n",
            "Status of job: CREATED \n",
            "\n",
            "Status of job: CREATED \n",
            "\n",
            "Status of job: CREATED \n",
            "\n",
            "Status of job: CREATED \n",
            "\n",
            "Status of job: CREATED \n",
            "\n",
            "Status of job: CREATED \n",
            "\n",
            "Status of job: CREATED \n",
            "\n"
          ]
        }
      ],
      "source": [
        "bitstring_length = 64 * 6\n",
        "n_qubits = 11\n",
        "n_circuits = int(np.ceil(bitstring_length / n_qubits))\n",
        "\n",
        "id_array = []\n",
        "random_bitstrings = []\n",
        "for i in range(n_circuits):\n",
        "    thread = threading.Thread(target=run_circuit, args=())\n",
        "    thread.setDaemon(True)\n",
        "    thread.start()\n",
        "    print(f\"Thread {i} started\")"
      ]
    },
    {
      "cell_type": "markdown",
      "id": "6c8268a4-200d-4730-a3ec-8e9f3711e456",
      "metadata": {
        "id": "6c8268a4-200d-4730-a3ec-8e9f3711e456"
      },
      "source": [
        "Check the status of our jobs:"
      ]
    },
    {
      "cell_type": "code",
      "execution_count": null,
      "id": "845e7155-9fd0-458c-884a-b42a00d24772",
      "metadata": {
        "id": "845e7155-9fd0-458c-884a-b42a00d24772",
        "outputId": "7c154647-d8ca-4057-83dc-6b7ad5203008"
      },
      "outputs": [
        {
          "name": "stdout",
          "output_type": "stream",
          "text": [
            "Status of (reconstructed) task: COMPLETED \n",
            "\n",
            "Status of (reconstructed) task: COMPLETED \n",
            "\n",
            "Status of (reconstructed) task: COMPLETED \n",
            "\n",
            "Status of (reconstructed) task: COMPLETED \n",
            "\n",
            "Status of (reconstructed) task: COMPLETED \n",
            "\n",
            "Status of (reconstructed) task: COMPLETED \n",
            "\n",
            "Status of (reconstructed) task: COMPLETED \n",
            "\n",
            "Status of (reconstructed) task: COMPLETED \n",
            "\n",
            "Status of (reconstructed) task: COMPLETED \n",
            "\n",
            "Status of (reconstructed) task: COMPLETED \n",
            "\n",
            "Status of (reconstructed) task: COMPLETED \n",
            "\n",
            "Status of (reconstructed) task: COMPLETED \n",
            "\n",
            "Status of (reconstructed) task: COMPLETED \n",
            "\n",
            "Status of (reconstructed) task: COMPLETED \n",
            "\n",
            "Status of (reconstructed) task: COMPLETED \n",
            "\n",
            "Status of (reconstructed) task: COMPLETED \n",
            "\n",
            "Status of (reconstructed) task: COMPLETED \n",
            "\n",
            "Status of (reconstructed) task: COMPLETED \n",
            "\n",
            "Status of (reconstructed) task: COMPLETED \n",
            "\n",
            "Status of (reconstructed) task: COMPLETED \n",
            "\n",
            "Status of (reconstructed) task: COMPLETED \n",
            "\n",
            "Status of (reconstructed) task: COMPLETED \n",
            "\n",
            "Status of (reconstructed) task: COMPLETED \n",
            "\n",
            "Status of (reconstructed) task: COMPLETED \n",
            "\n",
            "Status of (reconstructed) task: COMPLETED \n",
            "\n",
            "Status of (reconstructed) task: COMPLETED \n",
            "\n",
            "Status of (reconstructed) task: COMPLETED \n",
            "\n",
            "Status of (reconstructed) task: COMPLETED \n",
            "\n",
            "Status of (reconstructed) task: COMPLETED \n",
            "\n",
            "Status of (reconstructed) task: COMPLETED \n",
            "\n",
            "Status of (reconstructed) task: COMPLETED \n",
            "\n",
            "Status of (reconstructed) task: COMPLETED \n",
            "\n",
            "Status of (reconstructed) task: COMPLETED \n",
            "\n",
            "Status of (reconstructed) task: COMPLETED \n",
            "\n",
            "Status of (reconstructed) task: COMPLETED \n",
            "\n"
          ]
        }
      ],
      "source": [
        "def get_task_status(i):\n",
        "\n",
        "    task_load = AwsQuantumTask(arn=i)\n",
        "\n",
        "    # print status\n",
        "    status = task_load.state()\n",
        "    print('Status of (reconstructed) task:', status, '\\n')\n",
        "    \n",
        "for i in id_array:\n",
        "    thread = threading.Thread(target=get_task_status, args=(str(i),))\n",
        "    thread.setDaemon(True)\n",
        "    thread.start()"
      ]
    },
    {
      "cell_type": "code",
      "execution_count": null,
      "id": "33a3db39-1a1b-4546-b97e-e90ffb6d0549",
      "metadata": {
        "id": "33a3db39-1a1b-4546-b97e-e90ffb6d0549",
        "outputId": "2b81f55d-0e3e-44e5-e6fd-69fda99543ba"
      },
      "outputs": [
        {
          "data": {
            "text/plain": [
              "['arn:aws:braket:us-east-1:592242689881:quantum-task/05614783-99ae-41d2-95c2-46f8b21e4498',\n",
              " 'arn:aws:braket:us-east-1:592242689881:quantum-task/e30b0746-f0d3-4e7f-85b5-1a44c5655d4f',\n",
              " 'arn:aws:braket:us-east-1:592242689881:quantum-task/83cddf7a-a6fb-4fb5-986d-5001fce89d02',\n",
              " 'arn:aws:braket:us-east-1:592242689881:quantum-task/5a44466a-44b8-4b59-b43c-834cb291681b',\n",
              " 'arn:aws:braket:us-east-1:592242689881:quantum-task/e1bac7c3-3cc1-455b-aea7-bdbfbd4a23e6',\n",
              " 'arn:aws:braket:us-east-1:592242689881:quantum-task/8dc09f3f-0cdc-4388-a6b6-1ab6ca90b5fa',\n",
              " 'arn:aws:braket:us-east-1:592242689881:quantum-task/cf2b3446-aaf3-427e-b2e0-05fe3dd6583d',\n",
              " 'arn:aws:braket:us-east-1:592242689881:quantum-task/de3ef775-1ef7-446f-a999-3fc0d9e55010',\n",
              " 'arn:aws:braket:us-east-1:592242689881:quantum-task/c03dbba0-4eef-4808-9441-d28094505f80',\n",
              " 'arn:aws:braket:us-east-1:592242689881:quantum-task/98780973-583a-492b-8df8-ce143a6955ce',\n",
              " 'arn:aws:braket:us-east-1:592242689881:quantum-task/ae7060b6-8e5d-4e08-80a7-690508ed797c',\n",
              " 'arn:aws:braket:us-east-1:592242689881:quantum-task/7b8ee98e-c567-40ca-80b5-965b4f4dd549',\n",
              " 'arn:aws:braket:us-east-1:592242689881:quantum-task/61439ca3-1f2a-43d3-af37-d4ba4c1bd352',\n",
              " 'arn:aws:braket:us-east-1:592242689881:quantum-task/86e71c6e-9527-4a2a-9a1b-0835423b6d89',\n",
              " 'arn:aws:braket:us-east-1:592242689881:quantum-task/cc95be24-582e-4bc9-b9ba-cb4bf853a772',\n",
              " 'arn:aws:braket:us-east-1:592242689881:quantum-task/2b0e827d-99c6-4ac5-b9be-5eb79506a848',\n",
              " 'arn:aws:braket:us-east-1:592242689881:quantum-task/2caa95fd-838e-4db7-93e0-f690e13d41b8',\n",
              " 'arn:aws:braket:us-east-1:592242689881:quantum-task/6dd7224f-885d-400f-b351-5b7c439271ea',\n",
              " 'arn:aws:braket:us-east-1:592242689881:quantum-task/1a6470a1-fe7e-4a5a-8337-93d79e418710',\n",
              " 'arn:aws:braket:us-east-1:592242689881:quantum-task/b11a2ea7-5cea-4d33-818a-64669e6a68a0',\n",
              " 'arn:aws:braket:us-east-1:592242689881:quantum-task/bd4b383f-d1ef-43a5-a7f1-f7e625072936',\n",
              " 'arn:aws:braket:us-east-1:592242689881:quantum-task/505f24d8-c357-4e43-9c9a-759f4c9c9e8d',\n",
              " 'arn:aws:braket:us-east-1:592242689881:quantum-task/f855ef35-88a5-47ba-be4f-a4f17b9ee7f9',\n",
              " 'arn:aws:braket:us-east-1:592242689881:quantum-task/beef7201-f786-412f-8fd3-97bd5cab0376',\n",
              " 'arn:aws:braket:us-east-1:592242689881:quantum-task/2f357008-a0de-4af8-b029-868d32429711',\n",
              " 'arn:aws:braket:us-east-1:592242689881:quantum-task/427f7845-8567-4eec-bb9b-37d07836c2d9',\n",
              " 'arn:aws:braket:us-east-1:592242689881:quantum-task/57224ea2-a729-4011-9aa0-c40cd0ba5967',\n",
              " 'arn:aws:braket:us-east-1:592242689881:quantum-task/291486f2-bd84-48ae-90a3-7d995b31db1d',\n",
              " 'arn:aws:braket:us-east-1:592242689881:quantum-task/c7d29b6b-12cf-4dba-80c6-70411d1e06c6',\n",
              " 'arn:aws:braket:us-east-1:592242689881:quantum-task/0cdde378-d97f-4d3f-9190-386a4de3cc12',\n",
              " 'arn:aws:braket:us-east-1:592242689881:quantum-task/0637ef75-d3b4-47a3-acb4-4daf6ac3a985',\n",
              " 'arn:aws:braket:us-east-1:592242689881:quantum-task/cc67eaf1-c998-4b2d-bf74-c3360c48211f',\n",
              " 'arn:aws:braket:us-east-1:592242689881:quantum-task/402e12b7-4ab2-479c-ae0e-55ea864bcc48',\n",
              " 'arn:aws:braket:us-east-1:592242689881:quantum-task/49622340-c8f6-4167-a29e-edba89b51782',\n",
              " 'arn:aws:braket:us-east-1:592242689881:quantum-task/f4c6488e-67f1-44e7-bf2e-677bf67c4a5d']"
            ]
          },
          "execution_count": 56,
          "metadata": {},
          "output_type": "execute_result"
        }
      ],
      "source": [
        "id_array"
      ]
    },
    {
      "cell_type": "markdown",
      "id": "8e6ea46a-4bc9-4909-be25-be2738fe2f52",
      "metadata": {
        "id": "8e6ea46a-4bc9-4909-be25-be2738fe2f52"
      },
      "source": [
        "Here are all of the random bitstrings that we measured:"
      ]
    },
    {
      "cell_type": "code",
      "execution_count": null,
      "id": "fb0b9d9d-5ca2-44fb-8d33-2e65e827d3d1",
      "metadata": {
        "id": "fb0b9d9d-5ca2-44fb-8d33-2e65e827d3d1",
        "outputId": "813c2963-a8c0-4c3b-c4ab-4eb24de5908e"
      },
      "outputs": [
        {
          "data": {
            "text/plain": [
              "['01100011111',\n",
              " '10010011111',\n",
              " '10011111010',\n",
              " '01100110101',\n",
              " '11011001001',\n",
              " '11000011100',\n",
              " '10000000110',\n",
              " '11011101010',\n",
              " '01010000001',\n",
              " '10110010001',\n",
              " '11000000011',\n",
              " '10011000100',\n",
              " '00001000101',\n",
              " '10110011111',\n",
              " '11000110000',\n",
              " '01100101011',\n",
              " '10100001111',\n",
              " '11111110111',\n",
              " '01000100101',\n",
              " '00101011001',\n",
              " '10000000101',\n",
              " '11001101011',\n",
              " '01001001101',\n",
              " '10101100000',\n",
              " '11110101001',\n",
              " '10101111110',\n",
              " '11100001110',\n",
              " '11111001111',\n",
              " '01101000111',\n",
              " '00101100101',\n",
              " '00110101011',\n",
              " '00110101010',\n",
              " '01001100110',\n",
              " '10010001101']"
            ]
          },
          "execution_count": 61,
          "metadata": {},
          "output_type": "execute_result"
        }
      ],
      "source": [
        "random_bitstrings"
      ]
    },
    {
      "cell_type": "markdown",
      "id": "dfa6d06c-8adb-42d8-953a-40f53a019c52",
      "metadata": {
        "id": "dfa6d06c-8adb-42d8-953a-40f53a019c52"
      },
      "source": [
        "Now let's concatenate them and truncate the final random bitstring of length 384."
      ]
    },
    {
      "cell_type": "code",
      "execution_count": null,
      "id": "aea81c7c-01c0-4fae-982a-d2fc524ffb2a",
      "metadata": {
        "id": "aea81c7c-01c0-4fae-982a-d2fc524ffb2a",
        "outputId": "66f9d212-07b9-40d6-8f51-a11b1416bbf0"
      },
      "outputs": [
        {
          "data": {
            "text/plain": [
              "'01100011111100100111111001111101001100110101110110010011100001110010000000110110111010100101000000110110010001110000000111001100010000001000101101100111111100011000001100101011101000011111111111011101000100101001010110011000000010111001101011010010011011010110000011110101001101011111101110000111011111001111011010001110010110010100110101011001101010100100110011010010001101'"
            ]
          },
          "execution_count": 60,
          "metadata": {},
          "output_type": "execute_result"
        }
      ],
      "source": [
        "bitstring = ''.join(random_bitstrings)[:bitstring_length]\n",
        "bitstring"
      ]
    },
    {
      "cell_type": "markdown",
      "id": "0e7c18b8-e427-4892-99a3-9776f8457b09",
      "metadata": {
        "id": "0e7c18b8-e427-4892-99a3-9776f8457b09"
      },
      "source": [
        "So, the central question is, why is this a better way of generating a random number on noisy quantum hardware than a simple Hadamard transform? The answer is two-fold: firstly, it is known that random circuits approximate unitary-2 designs in the limit of long circuit depth [*Comm. Math. Phys. volume 291, pages 257–302 (2009)*]. Therefore, random circuits provide a good method of generating more unbiased random numbers. While an single random circuit may still have a residual bias, by constructing a random number from the results of many random circuits, we hope to provide a truly unbiased random number generator.\n",
        " \n",
        "The second reason why this idea is better than a Hadamard transform is that Google's quantum supremacy experiments [*Nature volume 574, pages 505–510 (2019)*] demonstrated that random circuits of this form cannot be efficiently simulated using classical computers. For example, they showed that their largest random circuits would take approximately 10,000 years to simulate classically. This results has been confirmed by other related experiments [*Science volume 370, issue 6523, pages 1460-1463 (2020)*],[*Phys. Rev. Lett. 127, 180501 (2021)*], and has shown to be #P-hard [*Nature Physics volume 15, pages 159–163 (2019)*]. Therefore, our random number generator is not only truly random and unbiased, it is also robust to classical methods for trying to hack or reconstruct the random number that is used as a key for encryption."
      ]
    }
  ],
  "metadata": {
    "kernelspec": {
      "display_name": "Python 3 [Braket]",
      "language": "python",
      "name": "python3_aws_braket_kwx6dl"
    },
    "language_info": {
      "codemirror_mode": {
        "name": "ipython",
        "version": 3
      },
      "file_extension": ".py",
      "mimetype": "text/x-python",
      "name": "python",
      "nbconvert_exporter": "python",
      "pygments_lexer": "ipython3",
      "version": "3.9.7"
    },
    "colab": {
      "name": "Quantum_random_number_generator.ipynb",
      "provenance": [],
      "toc_visible": true
    }
  },
  "nbformat": 4,
  "nbformat_minor": 5
}